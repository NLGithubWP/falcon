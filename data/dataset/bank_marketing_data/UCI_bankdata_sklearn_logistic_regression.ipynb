{
 "cells": [
  {
   "cell_type": "code",
   "execution_count": 1,
   "id": "eastern-steps",
   "metadata": {},
   "outputs": [],
   "source": [
    "# Common imports\n",
    "import csv\n",
    "import os\n",
    "import sys\n",
    "# Scikit-Learn ≥0.20\n",
    "import sklearn\n",
    "# numpy matplotlib\n",
    "import numpy as np\n",
    "import matplotlib.pyplot as plt "
   ]
  },
  {
   "cell_type": "code",
   "execution_count": 2,
   "id": "brief-compatibility",
   "metadata": {},
   "outputs": [
    {
     "name": "stdout",
     "output_type": "stream",
     "text": [
      "bank_data_norm shape, dtype =  (4521, 17) float64\n"
     ]
    }
   ],
   "source": [
    "with open('./bank_marketing_data/bank.data.norm') as csv_file:\n",
    "    bank_data_norm = np.loadtxt(csv_file, delimiter=\",\")\n",
    "\n",
    "print(\"bank_data_norm shape, dtype = \",\n",
    "      bank_data_norm.shape,\n",
    "      bank_data_norm.dtype\n",
    ")"
   ]
  },
  {
   "cell_type": "code",
   "execution_count": 3,
   "id": "honey-bottom",
   "metadata": {},
   "outputs": [
    {
     "name": "stdout",
     "output_type": "stream",
     "text": [
      "X.shape, X.dtype =  (4521, 16) float64\n",
      "X[0] =  [1.61777e-01 9.09920e-02 5.00250e-01 3.33555e-01 1.00000e+00 6.84550e-02\n",
      " 1.00000e+00 1.00000e+00 5.00250e-01 6.00013e-01 8.18198e-01 2.48270e-02\n",
      " 2.00000e-05 1.00000e-06 4.00000e-05 3.33000e-04]\n",
      "y.shape, y[:5], y.dtype =  (4521,) [1 1 1 1 1] int64\n",
      "=== X and y extraction done ===\n"
     ]
    }
   ],
   "source": [
    "# Sanity check for X and y extraction\n",
    "first_row = np.array([\n",
    "    0.161777,0.090992,0.500250,0.333555,\n",
    "    1.000000,0.068455,1.000000,1.000000,\n",
    "    0.500250,0.600013,0.818198,0.024827,\n",
    "    0.000020,0.000001,0.000040,0.000333,\n",
    "    1.000000\n",
    "])\n",
    "\n",
    "\n",
    "# extract the first 16 columns as features X\n",
    "X = bank_data_norm[:, :-1]\n",
    "print(\"X.shape, X.dtype = \", X.shape, X.dtype)\n",
    "print(\"X[0] = \", X[0])\n",
    "np.testing.assert_array_equal(X[0], first_row[:-1])\n",
    "\n",
    "\n",
    "# extract the last column as label y\n",
    "y = bank_data_norm[:, -1:].astype(np.int)\n",
    "np.testing.assert_array_equal(y[0], first_row[-1:])\n",
    "# a 1d array was expected. Please change the shape of y to (n_samples, )\n",
    "y = y.ravel()\n",
    "print(\"y.shape, y[:5], y.dtype = \", y.shape, y[:5], y.dtype)\n",
    "print(\"=== X and y extraction done ===\")"
   ]
  },
  {
   "cell_type": "code",
   "execution_count": 4,
   "id": "exciting-variance",
   "metadata": {},
   "outputs": [
    {
     "name": "stdout",
     "output_type": "stream",
     "text": [
      "seed 42's indices:  [2189 2105 1870 ... 4275 2539 3936]\n",
      "seed_42_indices.shape, seed_42_indices.dtype =  (4521,) int64\n",
      "seed_42_indices[3614:3618] =  [1300 1741 2816 4245]\n",
      "train_indices.shape, test_indices.shape =  (3616,) (905,)\n",
      "train_indices[-2:], test_indices[:2] =  [1300 1741] [2816 4245]\n"
     ]
    }
   ],
   "source": [
    "# reproduce the seed 42 shuffle used by FL engine\n",
    "with open('./bank_marketing_data/falcon_client0_data_indexes_str_Seed42.txt') as csv_file:\n",
    "     seed_42_indices = np.loadtxt(csv_file, delimiter=\",\").astype(np.int)\n",
    "\n",
    "print(\"seed 42's indices: \", seed_42_indices)\n",
    "print(\"seed_42_indices.shape, seed_42_indices.dtype = \", seed_42_indices.shape, seed_42_indices.dtype)\n",
    "\n",
    "# split_percentage = 0.8\n",
    "# 4521 * .8 = 3616.8\n",
    "# The training data consists of 3616 rows, while the testing data consists of 905 rows.\n",
    "\n",
    "print(\"seed_42_indices[3614:3618] = \", seed_42_indices[3614:3618])\n",
    "\n",
    "train_indices = seed_42_indices[:3616]\n",
    "test_indices = seed_42_indices[3616:]\n",
    "print(\"train_indices.shape, test_indices.shape = \", train_indices.shape, test_indices.shape)\n",
    "print(\"train_indices[-2:], test_indices[:2] = \", train_indices[-2:], test_indices[:2])"
   ]
  },
  {
   "cell_type": "code",
   "execution_count": 5,
   "id": "clean-faith",
   "metadata": {},
   "outputs": [
    {
     "name": "stdout",
     "output_type": "stream",
     "text": [
      "X_train.dtype, X_train.shape =  float64 (3616, 16)\n",
      "X_test.dtype, X_test.shape =  float64 (905, 16)\n",
      "y_train.dtype, y_train.shape =  float64 (3616,)\n",
      "y_test.dtype, y_test.shape =  float64 (905,)\n",
      "=== split train test done ===\n"
     ]
    }
   ],
   "source": [
    "# Reconstruct the train and test data\n",
    "\n",
    "# empty array with proper dimensionality.\n",
    "X_train = np.empty((0, 16))\n",
    "X_test = np.empty((0, 16))\n",
    "y_train = np.empty((0))\n",
    "y_test = np.empty((0))\n",
    "\n",
    "\n",
    "for index in train_indices:\n",
    "    X_train = np.vstack((X_train, X[index]))\n",
    "    y_train = np.append(y_train, y[index])\n",
    "    \n",
    "for index in test_indices:\n",
    "    X_test = np.vstack((X_test, X[index]))\n",
    "    y_test = np.append(y_test, y[index])\n",
    "\n",
    "print(\"X_train.dtype, X_train.shape = \", X_train.dtype, X_train.shape)\n",
    "print(\"X_test.dtype, X_test.shape = \", X_test.dtype, X_test.shape)\n",
    "print(\"y_train.dtype, y_train.shape = \", y_train.dtype, y_train.shape)\n",
    "print(\"y_test.dtype, y_test.shape = \", y_test.dtype, y_test.shape)\n",
    "\n",
    "\n",
    "# Sanity check for split train test\n",
    "row_2189 = np.array([\n",
    "    0.352951,0.363694,0.500250,0.333555,\n",
    "    1.000000,0.054912,0.000999,0.000999,\n",
    "    0.000500,0.466684,0.363694,0.092685,\n",
    "    0.081651,0.000001,0.000040,0.000333,\n",
    "    1.000000\n",
    "])\n",
    "row_3936 = np.array([\n",
    "    0.220600,0.272793,0.500250,1.000000,\n",
    "    1.000000,0.085408,0.000999,1.000000,\n",
    "    0.500250,0.400020,0.363694,0.153923,\n",
    "    0.000020,0.000001,0.000040,0.000333,\n",
    "    0.000000\n",
    "])\n",
    "\n",
    "np.testing.assert_array_equal(X_train[0], row_2189[:-1])\n",
    "np.testing.assert_array_equal(X_test[-1], row_3936[:-1])\n",
    "np.testing.assert_array_equal(y_train[0], row_2189[-1:])\n",
    "np.testing.assert_array_equal(y_test[-1], row_3936[-1:])\n",
    "print(\"=== split train test done ===\")"
   ]
  },
  {
   "cell_type": "code",
   "execution_count": 6,
   "id": "spread-assignment",
   "metadata": {},
   "outputs": [
    {
     "name": "stdout",
     "output_type": "stream",
     "text": [
      "=== y_train y_test count matches ===\n"
     ]
    }
   ],
   "source": [
    "# Assert and Test that Positive and Negative Class Count Match\n",
    "# for train split --> 406 3210 \n",
    "np.testing.assert_equal(np.count_nonzero(y_train == 1), 3210)\n",
    "np.testing.assert_equal(np.count_nonzero(y_train == 0), 406)\n",
    "# for test split --> 115 790\n",
    "np.testing.assert_equal(np.count_nonzero(y_test == 1), 790)\n",
    "np.testing.assert_equal(np.count_nonzero(y_test == 0), 115)\n",
    "print(\"=== y_train y_test count matches ===\")"
   ]
  },
  {
   "cell_type": "markdown",
   "id": "filled-advance",
   "metadata": {},
   "source": [
    "## Logistic Regression Classifier with sklearn"
   ]
  },
  {
   "cell_type": "code",
   "execution_count": 7,
   "id": "crucial-demonstration",
   "metadata": {},
   "outputs": [
    {
     "name": "stdout",
     "output_type": "stream",
     "text": [
      "test set loss =  0.2916087602205399\n"
     ]
    },
    {
     "name": "stderr",
     "output_type": "stream",
     "text": [
      "[Parallel(n_jobs=1)]: Using backend SequentialBackend with 1 concurrent workers.\n",
      "/home/svd/miniconda3/lib/python3.7/site-packages/sklearn/linear_model/_logistic.py:764: ConvergenceWarning: lbfgs failed to converge (status=1):\n",
      "STOP: TOTAL NO. of ITERATIONS REACHED LIMIT.\n",
      "\n",
      "Increase the number of iterations (max_iter) or scale the data as shown in:\n",
      "    https://scikit-learn.org/stable/modules/preprocessing.html\n",
      "Please also refer to the documentation for alternative solver options:\n",
      "    https://scikit-learn.org/stable/modules/linear_model.html#logistic-regression\n",
      "  extra_warning_msg=_LOGISTIC_SOLVER_CONVERGENCE_MSG)\n",
      "[Parallel(n_jobs=1)]: Done   1 out of   1 | elapsed:    0.2s remaining:    0.0s\n",
      "[Parallel(n_jobs=1)]: Done   1 out of   1 | elapsed:    0.2s finished\n"
     ]
    }
   ],
   "source": [
    "# run logistic regress from sklearn\n",
    "from sklearn.linear_model import LogisticRegression\n",
    "from sklearn.metrics import confusion_matrix, plot_confusion_matrix, classification_report\n",
    "from sklearn.metrics import log_loss\n",
    "\n",
    "# train a Logistic Regression model\n",
    "clf = LogisticRegression(\n",
    "    random_state=42,\n",
    "    verbose=10,\n",
    "    penalty='none',  # If ‘none’, no regularization is applied.\n",
    "    max_iter=50,\n",
    ")\n",
    "clf.fit(X_train, y_train)\n",
    "\n",
    "loss = log_loss(y_test, clf.predict_proba(X_test), eps=1e-15)\n",
    "print(\"test set loss = \", loss)"
   ]
  },
  {
   "cell_type": "code",
   "execution_count": 8,
   "id": "personalized-intersection",
   "metadata": {},
   "outputs": [
    {
     "name": "stdout",
     "output_type": "stream",
     "text": [
      "clf.classes_ =  [0. 1.]\n",
      "x_test's first 3 predicted probabilities = \n",
      " [[0.10668627 0.89331373]\n",
      " [0.05692859 0.94307141]\n",
      " [0.02335335 0.97664665]]\n",
      "cm =\n",
      " [[ 23  92]\n",
      " [ 10 780]]\n",
      "              precision    recall  f1-score   support\n",
      "\n",
      "   Class Yes       0.70      0.20      0.31       115\n",
      "    Class No       0.89      0.99      0.94       790\n",
      "\n",
      "    accuracy                           0.89       905\n",
      "   macro avg       0.80      0.59      0.62       905\n",
      "weighted avg       0.87      0.89      0.86       905\n",
      "\n"
     ]
    },
    {
     "data": {
      "image/png": "[encoded data removed]",
      "text/plain": [
       "<Figure size 432x288 with 2 Axes>"
      ]
     },
     "metadata": {
      "needs_background": "light"
     },
     "output_type": "display_data"
    }
   ],
   "source": [
    "# show the classes\n",
    "print(\"clf.classes_ = \", clf.classes_)\n",
    "\n",
    "# The first column is the probability of the predicted output being zero, that is 1 - 𝑝(𝑥)\n",
    "# The second column is the probability that the output is one, or 𝑝(𝑥).\n",
    "print(\"x_test's first 3 predicted probabilities = \\n\", clf.predict_proba(X_test)[:3])\n",
    "\n",
    "# get actual predicted class\n",
    "y_pred = clf.predict(X_test)\n",
    "\n",
    "# show the confusion matrix\n",
    "cm = confusion_matrix(y_test, y_pred)\n",
    "print(\"cm =\\n\", cm)\n",
    "plot_confusion_matrix(\n",
    "    clf, X_test, y_test,\n",
    "    display_labels=['Yes', 'No'],\n",
    "    cmap=plt.cm.Blues,\n",
    ")\n",
    "target_names = ['Class Yes', 'Class No']\n",
    "print(classification_report(y_test, y_pred, target_names=target_names))"
   ]
  },
  {
   "cell_type": "code",
   "execution_count": 9,
   "id": "exclusive-revision",
   "metadata": {},
   "outputs": [
    {
     "data": {
      "image/png": "[encoded data removed]",
      "text/plain": [
       "<Figure size 432x288 with 1 Axes>"
      ]
     },
     "metadata": {
      "needs_background": "light"
     },
     "output_type": "display_data"
    }
   ],
   "source": [
    "# code taken from tutorial:\n",
    "# https://towardsdatascience.com/building-a-logistic-regression-in-python-step-by-step-becd4d56c9c8\n",
    "from sklearn.metrics import roc_auc_score\n",
    "from sklearn.metrics import roc_curve\n",
    "import matplotlib.pyplot as plt \n",
    "plt.rc(\"font\", size=14)\n",
    "\n",
    "logit_roc_auc = roc_auc_score(y_test, clf.predict(X_test))\n",
    "fpr, tpr, thresholds = roc_curve(y_test, clf.predict_proba(X_test)[:,1])\n",
    "# print(\"thresholds = \", thresholds)\n",
    "plt.figure()\n",
    "plt.plot(fpr, tpr, label='Logistic Regression (area = %0.2f)' % logit_roc_auc)\n",
    "plt.plot([0, 1], [0, 1],'r--')\n",
    "plt.xlim([0.0, 1.0])\n",
    "plt.ylim([0.0, 1.05])\n",
    "plt.xlabel('False Positive Rate')\n",
    "plt.ylabel('True Positive Rate')\n",
    "plt.title('Receiver operating characteristic')\n",
    "plt.legend(loc=\"lower right\")\n",
    "# plt.savefig('Log_ROC')\n",
    "plt.show()"
   ]
  },
  {
   "cell_type": "code",
   "execution_count": 10,
   "id": "arranged-imperial",
   "metadata": {},
   "outputs": [
    {
     "name": "stdout",
     "output_type": "stream",
     "text": [
      "0.8668794716565769\n"
     ]
    },
    {
     "data": {
      "image/png": "[encoded data removed]",
      "text/plain": [
       "<Figure size 432x288 with 1 Axes>"
      ]
     },
     "metadata": {
      "needs_background": "light"
     },
     "output_type": "display_data"
    }
   ],
   "source": [
    "import matplotlib.pyplot as plt \n",
    "from sklearn import metrics\n",
    "from sklearn.metrics import roc_auc_score\n",
    "\n",
    "print(roc_auc_score(y_test, clf.predict_proba(X_test)[:, 1]))\n",
    "metrics.plot_roc_curve(clf, X_test, y_test)  \n",
    "plt.show() "
   ]
  },
  {
   "cell_type": "code",
   "execution_count": 11,
   "id": "union-record",
   "metadata": {},
   "outputs": [
    {
     "data": {
      "image/png": "[encoded data removed]",
      "text/plain": [
       "<Figure size 432x288 with 1 Axes>"
      ]
     },
     "metadata": {
      "needs_background": "light"
     },
     "output_type": "display_data"
    }
   ],
   "source": [
    "from io import StringIO\n",
    "from sklearn.linear_model import SGDClassifier\n",
    "\n",
    "\n",
    "# from stackoverflow answer:\n",
    "# https://stackoverflow.com/questions/44443479/python-sklearn-show-loss-values-during-training\n",
    "# NOTE: only works for SGDClassifier, not for LogisticRegression\n",
    "# but the loss values should be similar\n",
    "old_stdout = sys.stdout\n",
    "sys.stdout = mystdout = StringIO()\n",
    "clf = SGDClassifier(\n",
    "    loss='log',  #‘log’ loss gives logistic regression\n",
    "    penalty='none',\n",
    "    verbose=10,\n",
    "    max_iter=50,\n",
    "    learning_rate='constant',\n",
    "    eta0=0.1,  # initial learning rate for the ‘constant’\n",
    "    tol=None,  # do not early stop\n",
    ")\n",
    "clf.fit(X_train, y_train)\n",
    "\n",
    "sys.stdout = old_stdout\n",
    "loss_history = mystdout.getvalue()\n",
    "loss_list = []\n",
    "for line in loss_history.split('\\n'):\n",
    "    if(len(line.split(\"loss: \")) == 1):\n",
    "        continue\n",
    "    loss_list.append(float(line.split(\"loss: \")[-1]))\n",
    "# print(loss_list)\n",
    "# mystdout.flush()\n",
    "plt.figure()\n",
    "plt.plot(np.arange(len(loss_list)), loss_list, 'go-')\n",
    "# plt.savefig(\"warmstart_plots/pure_SGD.png\")\n",
    "plt.xlabel(\"Time in epochs\")\n",
    "plt.ylabel(\"Loss\")\n",
    "plt.show()"
   ]
  },
  {
   "cell_type": "code",
   "execution_count": 12,
   "id": "patient-productivity",
   "metadata": {},
   "outputs": [
    {
     "name": "stderr",
     "output_type": "stream",
     "text": [
      "[Parallel(n_jobs=1)]: Using backend SequentialBackend with 1 concurrent workers.\n",
      "[Parallel(n_jobs=1)]: Done   1 out of   1 | elapsed:    0.2s remaining:    0.0s\n",
      "[Parallel(n_jobs=1)]: Done   1 out of   1 | elapsed:    0.2s finished\n"
     ]
    },
    {
     "name": "stdout",
     "output_type": "stream",
     "text": [
      "=============== Loss Array ===============\n",
      "[]\n",
      "=============== Loss Array ===============\n",
      "[0.34113  0.308165 0.294514 0.286732 0.281676 0.282337 0.279866 0.282106\n",
      " 0.280627 0.28047  0.278102 0.279001 0.278575 0.280896 0.280078 0.278088\n",
      " 0.279206 0.280565 0.280297 0.281276 0.28126  0.281831 0.282169 0.279445\n",
      " 0.279848 0.27685  0.278248 0.280443 0.280338 0.282584 0.279578 0.279863\n",
      " 0.281017 0.278601 0.278352 0.280589 0.278782 0.27969  0.280693 0.277503\n",
      " 0.278644 0.280423 0.278407 0.279553 0.279169 0.280698 0.279222 0.279651\n",
      " 0.27869  0.280604]\n"
     ]
    },
    {
     "data": {
      "image/png": "[encoded data removed]",
      "text/plain": [
       "<Figure size 432x288 with 1 Axes>"
      ]
     },
     "metadata": {
      "needs_background": "light"
     },
     "output_type": "display_data"
    },
    {
     "data": {
      "image/png": "[encoded data removed]",
      "text/plain": [
       "<Figure size 432x288 with 1 Axes>"
      ]
     },
     "metadata": {
      "needs_background": "light"
     },
     "output_type": "display_data"
    }
   ],
   "source": [
    "# adapted and updated the answer from @OneRaynyDay\n",
    "# from https://stackoverflow.com/questions/44443479/python-sklearn-show-loss-values-during-training\n",
    "\n",
    "import sys\n",
    "import io\n",
    "import matplotlib.pyplot as plt\n",
    "\n",
    "class DisplayLossCurve(object):\n",
    "    def __init__(self, print_loss=True):\n",
    "        self.print_loss = print_loss\n",
    "\n",
    "    \"\"\"Make sure the model verbose is set to 1\"\"\"\n",
    "    def __enter__(self):\n",
    "        self.old_stdout = sys.stdout\n",
    "        sys.stdout = self.mystdout = io.StringIO()\n",
    "  \n",
    "    def __exit__(self, *args, **kwargs):\n",
    "        sys.stdout = self.old_stdout\n",
    "        loss_history = self.mystdout.getvalue()\n",
    "        loss_list = []\n",
    "        for line in loss_history.split('\\n'):\n",
    "            if(len(line.split(\"loss: \")) == 1):\n",
    "                continue\n",
    "            loss_list.append(float(line.split(\"loss: \")[-1]))\n",
    "        plt.figure()\n",
    "        plt.plot(np.arange(len(loss_list)), loss_list, 'go-')\n",
    "        plt.xlabel(\"Iteration\")\n",
    "        plt.ylabel(\"Loss\")\n",
    "\n",
    "        if self.print_loss:\n",
    "            print(\"=============== Loss Array ===============\")\n",
    "            print(np.array(loss_list))\n",
    "      \n",
    "        return True\n",
    "\n",
    "\n",
    "from sklearn.linear_model import SGDRegressor\n",
    "\n",
    "model = SGDRegressor(verbose=1)\n",
    "\n",
    "# train a Logistic Regression model\n",
    "clf = LogisticRegression(\n",
    "    random_state=42,\n",
    "    verbose=10,\n",
    ")\n",
    "\n",
    "\n",
    "with DisplayLossCurve(print_loss=True):\n",
    "    clf.fit(X_train, y_train)\n",
    "\n",
    "\n",
    "# NOTE: only works for SGDClassifier, not for LogisticRegression\n",
    "# but the loss values should be similar\n",
    "clf = SGDClassifier(\n",
    "    loss='log',  #‘log’ loss gives logistic regression\n",
    "    penalty='none',\n",
    "    verbose=10,\n",
    "    max_iter=50,\n",
    "    learning_rate='constant',\n",
    "    eta0=0.1,  # initial learning rate for the ‘constant’\n",
    "    tol=None,  # do not early stop\n",
    ")\n",
    "\n",
    "with DisplayLossCurve(print_loss=True):\n",
    "    clf.fit(X_train, y_train)"
   ]
  }
 ],
 "metadata": {
  "kernelspec": {
   "display_name": "Python 3",
   "language": "python",
   "name": "python3"
  },
  "language_info": {
   "codemirror_mode": {
    "name": "ipython",
    "version": 3
   },
   "file_extension": ".py",
   "mimetype": "text/x-python",
   "name": "python",
   "nbconvert_exporter": "python",
   "pygments_lexer": "ipython3",
   "version": "3.7.4"
  }
 },
 "nbformat": 4,
 "nbformat_minor": 5
}
