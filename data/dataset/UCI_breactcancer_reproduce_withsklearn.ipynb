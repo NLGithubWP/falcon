{
 "cells": [
  {
   "cell_type": "code",
   "execution_count": 1,
   "id": "static-thought",
   "metadata": {},
   "outputs": [],
   "source": [
    "# Common imports\n",
    "import csv\n",
    "import os\n",
    "import sys\n",
    "# Scikit-Learn ≥0.20\n",
    "import sklearn\n",
    "# numpy matplotlib\n",
    "import numpy as np\n",
    "import matplotlib.pyplot as plt "
   ]
  },
  {
   "cell_type": "code",
   "execution_count": 4,
   "id": "dependent-exclusive",
   "metadata": {},
   "outputs": [
    {
     "name": "stdout",
     "output_type": "stream",
     "text": [
      "bc_data_norm shape, dtype =  (569, 31) float64\n"
     ]
    }
   ],
   "source": [
    "with open('./breast_cancer_data/breast_cancer.data') as csv_file:\n",
    "    bc_data_norm = np.loadtxt(csv_file, delimiter=\",\")\n",
    "\n",
    "print(\"bc_data_norm shape, dtype = \",\n",
    "      bc_data_norm.shape,\n",
    "      bc_data_norm.dtype\n",
    ")"
   ]
  },
  {
   "cell_type": "code",
   "execution_count": 5,
   "id": "impressive-resistance",
   "metadata": {},
   "outputs": [
    {
     "name": "stdout",
     "output_type": "stream",
     "text": [
      "X.shape, X.dtype =  (569, 30) float64\n",
      "X[0] =  [1.799e+01 1.038e+01 1.228e+02 1.001e+03 1.184e-01 2.776e-01 3.001e-01\n",
      " 1.471e-01 2.419e-01 7.870e-02 1.095e+00 9.053e-01 8.589e+00 1.534e+02\n",
      " 6.400e-03 4.900e-02 5.370e-02 1.590e-02 3.000e-02 6.200e-03 2.538e+01\n",
      " 1.733e+01 1.846e+02 2.019e+03 1.622e-01 6.656e-01 7.119e-01 2.654e-01\n",
      " 4.601e-01 1.189e-01]\n",
      "y.shape, y[:5], y.dtype =  (569,) [0 0 0 0 0] int64\n",
      "=== X and y extraction done ===\n"
     ]
    }
   ],
   "source": [
    "# extract the first 30 columns as features X\n",
    "X = bc_data_norm[:, :-1]\n",
    "print(\"X.shape, X.dtype = \", X.shape, X.dtype)\n",
    "print(\"X[0] = \", X[0])\n",
    "\n",
    "# extract the last column as label y\n",
    "y = bc_data_norm[:, -1:].astype(np.int)\n",
    "# a 1d array was expected. Please change the shape of y to (n_samples, )\n",
    "y = y.ravel()\n",
    "print(\"y.shape, y[:5], y.dtype = \", y.shape, y[:5], y.dtype)\n",
    "print(\"=== X and y extraction done ===\")"
   ]
  },
  {
   "cell_type": "code",
   "execution_count": 6,
   "id": "julian-google",
   "metadata": {},
   "outputs": [],
   "source": [
    "# Class Distribution: 212 - Malignant, 357 - Benign\n",
    "np.testing.assert_equal(np.count_nonzero(y==1), 357)\n",
    "# benign class is 1\n",
    "np.testing.assert_equal(np.count_nonzero(y==0), 212)\n",
    "# malignant class is 0"
   ]
  },
  {
   "cell_type": "code",
   "execution_count": 8,
   "id": "harmful-catholic",
   "metadata": {},
   "outputs": [],
   "source": [
    "import numpy as np\n",
    "from sklearn.model_selection import train_test_split\n",
    "from sklearn import datasets\n",
    "from sklearn.metrics import confusion_matrix, classification_report\n",
    "import matplotlib.pyplot as plt\n",
    "\n",
    "# split the train and test set\n",
    "X_train, X_test, y_train, y_test = train_test_split(\n",
    "    X,\n",
    "    y,\n",
    "    test_size=0.2,\n",
    "    random_state=42,\n",
    ")"
   ]
  },
  {
   "cell_type": "code",
   "execution_count": 9,
   "id": "affiliated-eight",
   "metadata": {},
   "outputs": [
    {
     "name": "stdout",
     "output_type": "stream",
     "text": [
      "X_train.shape, X_test.shape =  (455, 30) (114, 30)\n",
      "y_train.shape, y_test.shape =  (455,) (114,)\n"
     ]
    }
   ],
   "source": [
    "print(\"X_train.shape, X_test.shape = \", X_train.shape, X_test.shape)\n",
    "print(\"y_train.shape, y_test.shape = \", y_train.shape, y_test.shape)"
   ]
  },
  {
   "cell_type": "code",
   "execution_count": 11,
   "id": "complimentary-february",
   "metadata": {},
   "outputs": [
    {
     "name": "stdout",
     "output_type": "stream",
     "text": [
      "x_test's first 3 predicted probabilities = \n",
      " [[1.92681816e-01 8.07318184e-01]\n",
      " [1.00000000e+00 7.17433091e-12]\n",
      " [9.99704446e-01 2.95554106e-04]]\n",
      "cm =\n",
      " [[41  2]\n",
      " [ 1 70]]\n",
      "              precision    recall  f1-score   support\n",
      "\n",
      "      Benign       0.98      0.95      0.96        43\n",
      "   Malignant       0.97      0.99      0.98        71\n",
      "\n",
      "    accuracy                           0.97       114\n",
      "   macro avg       0.97      0.97      0.97       114\n",
      "weighted avg       0.97      0.97      0.97       114\n",
      "\n",
      "LogReg regular accuracy: 0.9736842105263158\n"
     ]
    },
    {
     "name": "stderr",
     "output_type": "stream",
     "text": [
      "/home/svd/miniconda3/lib/python3.7/site-packages/sklearn/linear_model/_logistic.py:764: ConvergenceWarning: lbfgs failed to converge (status=1):\n",
      "STOP: TOTAL NO. of ITERATIONS REACHED LIMIT.\n",
      "\n",
      "Increase the number of iterations (max_iter) or scale the data as shown in:\n",
      "    https://scikit-learn.org/stable/modules/preprocessing.html\n",
      "Please also refer to the documentation for alternative solver options:\n",
      "    https://scikit-learn.org/stable/modules/linear_model.html#logistic-regression\n",
      "  extra_warning_msg=_LOGISTIC_SOLVER_CONVERGENCE_MSG)\n"
     ]
    }
   ],
   "source": [
    "from sklearn.linear_model import LogisticRegression\n",
    "\n",
    "clf = LogisticRegression(random_state=0).fit(X, y)\n",
    "\n",
    "print(\"x_test's first 3 predicted probabilities = \\n\", clf.predict_proba(X_test)[:3])\n",
    "\n",
    "# get actual predicted class\n",
    "y_pred = clf.predict(X_test)\n",
    "\n",
    "# show the confusion matrix\n",
    "cm = confusion_matrix(y_test, y_pred)\n",
    "print(\"cm =\\n\", cm)\n",
    "target_names = ['Benign', 'Malignant']\n",
    "print(classification_report(y_test, y_pred, target_names=target_names))\n",
    "\n",
    "def regular_accuracy(y_true, y_pred):\n",
    "    regular_accuracy = np.sum(y_true == y_pred) / len(y_true)\n",
    "    return regular_accuracy\n",
    "\n",
    "print(\"LogReg regular accuracy:\", regular_accuracy(y_test, y_pred))"
   ]
  },
  {
   "cell_type": "code",
   "execution_count": null,
   "id": "married-thanksgiving",
   "metadata": {},
   "outputs": [],
   "source": []
  }
 ],
 "metadata": {
  "kernelspec": {
   "display_name": "Python 3",
   "language": "python",
   "name": "python3"
  },
  "language_info": {
   "codemirror_mode": {
    "name": "ipython",
    "version": 3
   },
   "file_extension": ".py",
   "mimetype": "text/x-python",
   "name": "python",
   "nbconvert_exporter": "python",
   "pygments_lexer": "ipython3",
   "version": "3.7.4"
  }
 },
 "nbformat": 4,
 "nbformat_minor": 5
}
