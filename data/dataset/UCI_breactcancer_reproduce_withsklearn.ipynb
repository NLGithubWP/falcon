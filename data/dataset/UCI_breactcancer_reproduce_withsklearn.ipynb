{
 "cells": [
  {
   "cell_type": "code",
   "execution_count": 1,
   "id": "guided-fellowship",
   "metadata": {},
   "outputs": [],
   "source": [
    "# Common imports\n",
    "import csv\n",
    "import os\n",
    "import sys\n",
    "# Scikit-Learn ≥0.20\n",
    "import sklearn\n",
    "# numpy matplotlib\n",
    "import numpy as np\n",
    "import matplotlib.pyplot as plt "
   ]
  },
  {
   "cell_type": "code",
   "execution_count": 2,
   "id": "sized-worcester",
   "metadata": {},
   "outputs": [
    {
     "name": "stdout",
     "output_type": "stream",
     "text": [
      "bc_data_norm shape, dtype =  (569, 31) float64\n"
     ]
    }
   ],
   "source": [
    "with open('./breast_cancer_data/breast_cancer.data.norm') as csv_file:\n",
    "    bc_data_norm = np.loadtxt(csv_file, delimiter=\",\")\n",
    "\n",
    "print(\"bc_data_norm shape, dtype = \",\n",
    "      bc_data_norm.shape,\n",
    "      bc_data_norm.dtype\n",
    ")"
   ]
  },
  {
   "cell_type": "code",
   "execution_count": 3,
   "id": "fatty-referral",
   "metadata": {},
   "outputs": [
    {
     "name": "stdout",
     "output_type": "stream",
     "text": [
      "X.shape, X.dtype =  (569, 30) float64\n",
      "X[0] =  [0.52106  0.022691 0.545992 0.363733 0.597495 0.792661 0.703834 0.732443\n",
      " 0.68794  0.613636 0.35638  0.120664 0.369063 0.273813 0.1875   0.355705\n",
      " 0.137783 0.314126 0.320388 0.210702 0.620789 0.141547 0.668312 0.450698\n",
      " 0.603675 0.619657 0.568955 0.912329 0.599252 0.422801]\n",
      "y.shape, y[:5], y.dtype =  (569,) [0 0 0 0 0] int64\n",
      "=== X and y extraction done ===\n"
     ]
    }
   ],
   "source": [
    "# extract the first 30 columns as features X\n",
    "X = bc_data_norm[:, :-1]\n",
    "print(\"X.shape, X.dtype = \", X.shape, X.dtype)\n",
    "print(\"X[0] = \", X[0])\n",
    "\n",
    "# extract the last column as label y\n",
    "y = bc_data_norm[:, -1:].astype(np.int)\n",
    "# a 1d array was expected. Please change the shape of y to (n_samples, )\n",
    "y = y.ravel()\n",
    "print(\"y.shape, y[:5], y.dtype = \", y.shape, y[:5], y.dtype)\n",
    "print(\"=== X and y extraction done ===\")"
   ]
  },
  {
   "cell_type": "code",
   "execution_count": 4,
   "id": "prime-soldier",
   "metadata": {},
   "outputs": [],
   "source": [
    "# Class Distribution: 212 - Malignant, 357 - Benign\n",
    "np.testing.assert_equal(np.count_nonzero(y==1), 357)\n",
    "# benign class is 1\n",
    "np.testing.assert_equal(np.count_nonzero(y==0), 212)\n",
    "# malignant class is 0"
   ]
  },
  {
   "cell_type": "code",
   "execution_count": 5,
   "id": "alpha-picture",
   "metadata": {},
   "outputs": [],
   "source": [
    "import numpy as np\n",
    "from sklearn.model_selection import train_test_split\n",
    "from sklearn import datasets\n",
    "from sklearn.metrics import confusion_matrix, plot_confusion_matrix, classification_report\n",
    "import matplotlib.pyplot as plt\n",
    "\n",
    "# split the train and test set\n",
    "X_train, X_test, y_train, y_test = train_test_split(\n",
    "    X,\n",
    "    y,\n",
    "    test_size=0.2,\n",
    "    random_state=42,\n",
    ")"
   ]
  },
  {
   "cell_type": "code",
   "execution_count": 6,
   "id": "fiscal-badge",
   "metadata": {},
   "outputs": [
    {
     "name": "stdout",
     "output_type": "stream",
     "text": [
      "X_train.shape, X_test.shape =  (455, 30) (114, 30)\n",
      "y_train.shape, y_test.shape =  (455,) (114,)\n"
     ]
    }
   ],
   "source": [
    "print(\"X_train.shape, X_test.shape = \", X_train.shape, X_test.shape)\n",
    "print(\"y_train.shape, y_test.shape = \", y_train.shape, y_test.shape)"
   ]
  },
  {
   "cell_type": "markdown",
   "id": "dental-contents",
   "metadata": {},
   "source": [
    "## Logistic Regression Classifier with sklearn"
   ]
  },
  {
   "cell_type": "code",
   "execution_count": 7,
   "id": "assumed-korea",
   "metadata": {},
   "outputs": [
    {
     "name": "stdout",
     "output_type": "stream",
     "text": [
      "clf.classes_ =  [0 1]\n",
      "x_test's first 3 predicted probabilities = \n",
      " [[0. 1.]\n",
      " [1. 0.]\n",
      " [1. 0.]]\n",
      "cm =\n",
      " [[40  3]\n",
      " [ 7 64]]\n",
      "              precision    recall  f1-score   support\n",
      "\n",
      "   Malignant       0.85      0.93      0.89        43\n",
      "      Benign       0.96      0.90      0.93        71\n",
      "\n",
      "    accuracy                           0.91       114\n",
      "   macro avg       0.90      0.92      0.91       114\n",
      "weighted avg       0.92      0.91      0.91       114\n",
      "\n"
     ]
    },
    {
     "name": "stderr",
     "output_type": "stream",
     "text": [
      "[Parallel(n_jobs=1)]: Using backend SequentialBackend with 1 concurrent workers.\n",
      "[Parallel(n_jobs=1)]: Done   1 out of   1 | elapsed:    0.1s remaining:    0.0s\n",
      "[Parallel(n_jobs=1)]: Done   1 out of   1 | elapsed:    0.1s finished\n"
     ]
    },
    {
     "data": {
      "image/png": "[encoded data removed]",
      "text/plain": [
       "<Figure size 432x288 with 2 Axes>"
      ]
     },
     "metadata": {
      "needs_background": "light"
     },
     "output_type": "display_data"
    }
   ],
   "source": [
    "from sklearn.linear_model import LogisticRegression\n",
    "\n",
    "clf = LogisticRegression(\n",
    "    random_state=42,\n",
    "    verbose=10,\n",
    "    penalty='none',  # If ‘none’, no regularization is applied.\n",
    "    max_iter=3000,\n",
    ").fit(X_train, y_train)\n",
    "\n",
    "# show the classes\n",
    "print(\"clf.classes_ = \", clf.classes_)\n",
    "\n",
    "# The first column is the probability of the predicted output being zero, that is 1 - 𝑝(𝑥)\n",
    "# The second column is the probability that the output is one, or 𝑝(𝑥).\n",
    "print(\"x_test's first 3 predicted probabilities = \\n\", clf.predict_proba(X_test)[:3])\n",
    "\n",
    "# get actual predicted class\n",
    "y_pred = clf.predict(X_test)\n",
    "\n",
    "# show the confusion matrix\n",
    "cm = confusion_matrix(y_test, y_pred)\n",
    "print(\"cm =\\n\", cm)\n",
    "plot_confusion_matrix(\n",
    "    clf, X_test, y_test,\n",
    "    display_labels=['Malignant', 'Benign'],\n",
    "    cmap=plt.cm.Blues,\n",
    ")\n",
    "target_names = ['Malignant', 'Benign']\n",
    "print(classification_report(y_test, y_pred, target_names=target_names))"
   ]
  },
  {
   "cell_type": "code",
   "execution_count": 8,
   "id": "bottom-thesaurus",
   "metadata": {},
   "outputs": [
    {
     "data": {
      "image/png": "[encoded data removed]",
      "text/plain": [
       "<Figure size 432x288 with 1 Axes>"
      ]
     },
     "metadata": {
      "needs_background": "light"
     },
     "output_type": "display_data"
    }
   ],
   "source": [
    "# code taken from tutorial:\n",
    "# https://towardsdatascience.com/building-a-logistic-regression-in-python-step-by-step-becd4d56c9c8\n",
    "from sklearn.metrics import roc_auc_score\n",
    "from sklearn.metrics import roc_curve\n",
    "import matplotlib.pyplot as plt \n",
    "plt.rc(\"font\", size=14)\n",
    "\n",
    "# need to use predict, not predict_proba!\n",
    "logit_roc_auc = roc_auc_score(y_test, clf.predict(X_test))\n",
    "fpr, tpr, thresholds = roc_curve(y_test, clf.predict_proba(X_test)[:,1])\n",
    "# print(\"thresholds = \", thresholds)\n",
    "plt.figure()\n",
    "plt.plot(fpr, tpr, label='Logistic Regression (area = %0.2f)' % logit_roc_auc)\n",
    "plt.plot([0, 1], [0, 1],'r--')\n",
    "plt.xlim([0.0, 1.0])\n",
    "plt.ylim([0.0, 1.05])\n",
    "plt.xlabel('False Positive Rate')\n",
    "plt.ylabel('True Positive Rate')\n",
    "plt.title('Receiver operating characteristic')\n",
    "plt.legend(loc=\"lower right\")\n",
    "# plt.savefig('Log_ROC')\n",
    "plt.show()"
   ]
  },
  {
   "cell_type": "code",
   "execution_count": 9,
   "id": "fluid-remedy",
   "metadata": {},
   "outputs": [
    {
     "name": "stdout",
     "output_type": "stream",
     "text": [
      "0.9272846380609236\n"
     ]
    },
    {
     "data": {
      "image/png": "[encoded data removed]",
      "text/plain": [
       "<Figure size 432x288 with 1 Axes>"
      ]
     },
     "metadata": {
      "needs_background": "light"
     },
     "output_type": "display_data"
    }
   ],
   "source": [
    "import matplotlib.pyplot as plt \n",
    "from sklearn import metrics\n",
    "from sklearn.metrics import roc_auc_score\n",
    "\n",
    "print(roc_auc_score(y_test, clf.predict_proba(X_test)[:, 1]))\n",
    "metrics.plot_roc_curve(clf, X_test, y_test)  \n",
    "plt.show() "
   ]
  },
  {
   "cell_type": "code",
   "execution_count": 10,
   "id": "acute-freedom",
   "metadata": {},
   "outputs": [
    {
     "name": "stdout",
     "output_type": "stream",
     "text": [
      "=============== Loss Array ===============\n",
      "[0.435988 0.26135  0.219511 0.194076 0.177395 0.164281 0.155296 0.147134\n",
      " 0.141689 0.13557  0.131222 0.126092 0.122581 0.121442 0.118202 0.115474\n",
      " 0.114202 0.110896 0.110314 0.107205 0.106196 0.104459 0.102673 0.101711\n",
      " 0.100832 0.098676 0.097529 0.096862 0.096067 0.094788 0.094723 0.09282\n",
      " 0.092951 0.092331 0.090587 0.090596 0.090576 0.089817 0.088129 0.087762\n",
      " 0.087549 0.085822 0.085195 0.085824 0.08539  0.085503 0.084078 0.083377\n",
      " 0.083517 0.082951 0.080112 0.082195 0.081274 0.08195  0.080634 0.080417\n",
      " 0.080348 0.079605 0.07948  0.079268 0.078102 0.079065 0.078149 0.078419\n",
      " 0.077539 0.077697 0.077271 0.076647 0.076295 0.075133 0.076389 0.075545\n",
      " 0.075293 0.075152 0.075354 0.074712 0.074412 0.073929 0.074022 0.073916\n",
      " 0.073896 0.073034 0.072109 0.072839 0.072093 0.072621 0.071132 0.072859\n",
      " 0.070276 0.071128 0.070255 0.070301 0.0705   0.071253 0.071242 0.070971\n",
      " 0.070796 0.069919 0.068038 0.068932]\n"
     ]
    },
    {
     "data": {
      "image/png": "[encoded data removed]",
      "text/plain": [
       "<Figure size 432x288 with 1 Axes>"
      ]
     },
     "metadata": {
      "needs_background": "light"
     },
     "output_type": "display_data"
    }
   ],
   "source": [
    "# adapted and updated the answer from @OneRaynyDay\n",
    "# from https://stackoverflow.com/questions/44443479/python-sklearn-show-loss-values-during-training\n",
    "\n",
    "import sys\n",
    "import io\n",
    "import matplotlib.pyplot as plt\n",
    "from io import StringIO\n",
    "from sklearn.linear_model import SGDClassifier\n",
    "\n",
    "class DisplayLossCurve(object):\n",
    "    def __init__(self, print_loss=True):\n",
    "        self.print_loss = print_loss\n",
    "\n",
    "    \"\"\"Make sure the model verbose is set to 1\"\"\"\n",
    "    def __enter__(self):\n",
    "        self.old_stdout = sys.stdout\n",
    "        sys.stdout = self.mystdout = io.StringIO()\n",
    "  \n",
    "    def __exit__(self, *args, **kwargs):\n",
    "        sys.stdout = self.old_stdout\n",
    "        loss_history = self.mystdout.getvalue()\n",
    "        loss_list = []\n",
    "        for line in loss_history.split('\\n'):\n",
    "            if(len(line.split(\"loss: \")) == 1):\n",
    "                continue\n",
    "            loss_list.append(float(line.split(\"loss: \")[-1]))\n",
    "        plt.figure()\n",
    "        plt.plot(np.arange(len(loss_list)), loss_list, 'go-')\n",
    "        plt.xlabel(\"Iterations\")\n",
    "        plt.ylabel(\"Loss\")\n",
    "\n",
    "        if self.print_loss:\n",
    "            print(\"=============== Loss Array ===============\")\n",
    "            print(np.array(loss_list))\n",
    "      \n",
    "        return True\n",
    "\n",
    "\n",
    "\n",
    "# NOTE: only works for SGDClassifier, not for LogisticRegression\n",
    "# but the loss values should be similar\n",
    "clf = SGDClassifier(\n",
    "    loss='log',  #‘log’ loss gives logistic regression\n",
    "    penalty='none',\n",
    "    verbose=10,\n",
    "    max_iter=100,\n",
    "    learning_rate='constant',\n",
    "    eta0=0.1,  # initial learning rate for the ‘constant’\n",
    "    tol=None,  # do not early stop\n",
    ")\n",
    "\n",
    "with DisplayLossCurve(print_loss=True):\n",
    "    clf.fit(X_train, y_train)"
   ]
  }
 ],
 "metadata": {
  "kernelspec": {
   "display_name": "Python 3",
   "language": "python",
   "name": "python3"
  },
  "language_info": {
   "codemirror_mode": {
    "name": "ipython",
    "version": 3
   },
   "file_extension": ".py",
   "mimetype": "text/x-python",
   "name": "python",
   "nbconvert_exporter": "python",
   "pygments_lexer": "ipython3",
   "version": "3.7.4"
  }
 },
 "nbformat": 4,
 "nbformat_minor": 5
}
